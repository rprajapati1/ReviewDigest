{
 "cells": [
  {
   "cell_type": "markdown",
   "metadata": {},
   "source": [
    "# Defining required imports"
   ]
  },
  {
   "cell_type": "code",
   "execution_count": 1,
   "metadata": {
    "collapsed": false
   },
   "outputs": [],
   "source": [
    "import nltk\n",
    "import re\n",
    "from nltk.corpus import brown\n",
    "from nltk.chunk import regexp\n",
    "from nltk.collocations import *\n",
    "from string import punctuation\n",
    "from nltk.corpus import wordnet as wn\n",
    "from nltk.stem import WordNetLemmatizer\n",
    "from collections import defaultdict\n",
    "from urllib.request import urlopen\n",
    "import random\n",
    "import operator\n",
    "import json\n",
    "import string\n",
    "import pandas as pd\n",
    "import numpy as np\n",
    "from collections import Counter\n",
    "from sklearn.svm import SVC\n",
    "\n",
    "from sklearn.cross_validation import train_test_split\n",
    "\n",
    "from sklearn.linear_model import LogisticRegression\n",
    "from sklearn.ensemble import RandomForestClassifier\n",
    "\n",
    "from nltk.corpus import stopwords\n",
    "pstemmer = nltk.PorterStemmer()\n",
    "\n",
    "from sklearn.feature_extraction.text import CountVectorizer\n",
    "from sklearn.feature_extraction.text import TfidfVectorizer\n",
    "\n",
    "%matplotlib inline\n",
    "import matplotlib.pyplot as plt\n",
    "\n",
    "from IPython.display import display"
   ]
  },
  {
   "cell_type": "markdown",
   "metadata": {},
   "source": [
    "# Code for classifer or sentiment analyzer"
   ]
  },
  {
   "cell_type": "code",
   "execution_count": 2,
   "metadata": {
    "collapsed": false
   },
   "outputs": [],
   "source": [
    "# Fetching the labelled data and training the classifier\n",
    "train_data_file_name = 'train_data.csv'\n",
    "\n",
    "train_data_df = pd.read_csv(train_data_file_name, encoding = \"ISO-8859-13\")\n",
    "train_data_df.columns = [\"Text\",\"Sentiment\"]"
   ]
  },
  {
   "cell_type": "code",
   "execution_count": 3,
   "metadata": {
    "collapsed": false
   },
   "outputs": [
    {
     "data": {
      "text/plain": [
       " 1    2248\n",
       " 0    2061\n",
       "-1    1628\n",
       "dtype: int64"
      ]
     },
     "execution_count": 3,
     "metadata": {},
     "output_type": "execute_result"
    }
   ],
   "source": [
    "# Value counts for the labelled data\n",
    "train_data_df.Sentiment.value_counts()"
   ]
  },
  {
   "cell_type": "code",
   "execution_count": 4,
   "metadata": {
    "collapsed": false
   },
   "outputs": [
    {
     "data": {
      "text/plain": [
       "6.306889001179047"
      ]
     },
     "execution_count": 4,
     "metadata": {},
     "output_type": "execute_result"
    }
   ],
   "source": [
    "# Calculating the np.mean for the Text in the training data\n",
    "np.mean([len(s.split(\" \")) for s in train_data_df.Text])"
   ]
  },
  {
   "cell_type": "code",
   "execution_count": 5,
   "metadata": {
    "collapsed": true
   },
   "outputs": [],
   "source": [
    "# Stemming, tokenizing and vectorizing the features\n",
    "stemmer = pstemmer\n",
    "def stem_tokens(tokens, stemmer):\n",
    "    stemmed = []\n",
    "    for item in tokens:\n",
    "        stemmed.append(stemmer.stem(item))\n",
    "    return stemmed\n",
    "\n",
    "def tokenize(text):\n",
    "    # remove non letters\n",
    "    text = re.sub(\"[^a-zA-Z]\", \" \", text)\n",
    "    # tokenize\n",
    "    tokens = nltk.word_tokenize(text)\n",
    "    # stem\n",
    "    stems = stem_tokens(tokens, stemmer)\n",
    "    return stems\n",
    "\n",
    "# vectorizer = CountVectorizer(\n",
    "#     analyzer = 'word', # Assigning analyzer as word\n",
    "#     tokenizer = tokenize,\n",
    "#     lowercase = True, # Lowercasing the words\n",
    "#     stop_words = 'english', # For removing stop words from being considered as features\n",
    "#     ngram_range = (1,3), # Allowing unigrams, bigrams, and trigrams to be considered as features\n",
    "#     max_features = 50 # Using the top 1000 features\n",
    "# )\n",
    "\n",
    "vectorizer = TfidfVectorizer(\n",
    "    analyzer = 'word',\n",
    "    min_df=1,\n",
    "    tokenizer = tokenize,\n",
    "    lowercase = True,\n",
    "    stop_words = 'english',\n",
    "    ngram_range = (1,3),\n",
    "    max_features = 1000\n",
    ")"
   ]
  },
  {
   "cell_type": "code",
   "execution_count": 6,
   "metadata": {
    "collapsed": true
   },
   "outputs": [],
   "source": [
    "# Extracting the features from training data\n",
    "corpus_data_features = vectorizer.fit_transform(train_data_df.Text.tolist())"
   ]
  },
  {
   "cell_type": "code",
   "execution_count": 7,
   "metadata": {
    "collapsed": true
   },
   "outputs": [],
   "source": [
    "# Feature to array\n",
    "corpus_data_features_nd = corpus_data_features.toarray()\n",
    "corpus_data_features_nd.shape\n",
    "\n",
    "# Removing features with less than 3 characters\n",
    "vocab = vectorizer.get_feature_names()\n",
    "vocab = [word.lower() for word in vocab if len(word) > 2]"
   ]
  },
  {
   "cell_type": "code",
   "execution_count": 8,
   "metadata": {
    "collapsed": true
   },
   "outputs": [],
   "source": [
    "# remember that corpus_data_features_nd contains all of our \n",
    "# original train and test data, so we need to exclude\n",
    "# the unlabeled test entries\n",
    "\n",
    "X_train, X_dev, y_train, y_dev  = train_test_split(\n",
    "        corpus_data_features_nd, \n",
    "        train_data_df.Sentiment,\n",
    "        train_size=0.99, \n",
    "        random_state=1234)"
   ]
  },
  {
   "cell_type": "code",
   "execution_count": 9,
   "metadata": {
    "collapsed": false,
    "scrolled": true
   },
   "outputs": [],
   "source": [
    "# Training the classifiers on the training set\n",
    "\n",
    "log_model = LogisticRegression()\n",
    "rf_model = RandomForestClassifier(n_estimators=1000)\n",
    "svm_model = SVC(kernel='linear', C = 1.0)\n",
    "\n",
    "log_model = log_model.fit(X=X_train, y=y_train)\n",
    "rf_model = rf_model.fit(X=X_train, y=y_train)\n",
    "svm_model = svm_model.fit(X=X_train, y=y_train)"
   ]
  },
  {
   "cell_type": "code",
   "execution_count": 10,
   "metadata": {
    "collapsed": false
   },
   "outputs": [],
   "source": [
    "# Performing predictions on the dev set\n",
    "y_log_pred = log_model.predict(X_dev)\n",
    "y_rf_pred = rf_model.predict(X_dev)\n",
    "y_svm_pred = svm_model.predict(X_dev)"
   ]
  },
  {
   "cell_type": "code",
   "execution_count": 11,
   "metadata": {
    "collapsed": false
   },
   "outputs": [
    {
     "name": "stdout",
     "output_type": "stream",
     "text": [
      "             precision    recall  f1-score   support\n",
      "\n",
      "         -1       0.71      0.71      0.71        17\n",
      "          0       0.68      0.85      0.76        20\n",
      "          1       0.89      0.70      0.78        23\n",
      "\n",
      "avg / total       0.77      0.75      0.75        60\n",
      "\n"
     ]
    }
   ],
   "source": [
    "# Classifier report for the Logistic Regression model\n",
    "from sklearn.metrics import classification_report\n",
    "print(classification_report(y_dev, y_log_pred))"
   ]
  },
  {
   "cell_type": "code",
   "execution_count": 12,
   "metadata": {
    "collapsed": false
   },
   "outputs": [
    {
     "name": "stdout",
     "output_type": "stream",
     "text": [
      "             precision    recall  f1-score   support\n",
      "\n",
      "         -1       0.78      0.82      0.80        17\n",
      "          0       0.65      0.75      0.70        20\n",
      "          1       0.89      0.74      0.81        23\n",
      "\n",
      "avg / total       0.78      0.77      0.77        60\n",
      "\n"
     ]
    }
   ],
   "source": [
    "# Classifier report for the Random Forest Model\n",
    "print(classification_report(y_dev, y_rf_pred))"
   ]
  },
  {
   "cell_type": "code",
   "execution_count": 13,
   "metadata": {
    "collapsed": false
   },
   "outputs": [
    {
     "name": "stdout",
     "output_type": "stream",
     "text": [
      "             precision    recall  f1-score   support\n",
      "\n",
      "         -1       0.67      0.59      0.62        17\n",
      "          0       0.58      0.75      0.65        20\n",
      "          1       0.84      0.70      0.76        23\n",
      "\n",
      "avg / total       0.70      0.68      0.69        60\n",
      "\n"
     ]
    }
   ],
   "source": [
    "# Classifier report for the SVM Model\n",
    "print(classification_report(y_dev, y_svm_pred))"
   ]
  },
  {
   "cell_type": "markdown",
   "metadata": {},
   "source": [
    "### Model 1 : Logistic Regression Model"
   ]
  },
  {
   "cell_type": "code",
   "execution_count": 14,
   "metadata": {
    "collapsed": true
   },
   "outputs": [],
   "source": [
    "# Training the classifier on the whole training data available\n",
    "log_model = LogisticRegression()\n",
    "log_model = log_model.fit(X=corpus_data_features_nd, y=train_data_df.Sentiment)"
   ]
  },
  {
   "cell_type": "code",
   "execution_count": 15,
   "metadata": {
    "collapsed": true
   },
   "outputs": [],
   "source": [
    "# Creating method to get predictions for the test data\n",
    "\n",
    "def get_Predictions_LR(df_dict, vectorizer):\n",
    "    predictions_dict = {}\n",
    "    for feature in df_dict:\n",
    "        test_data_df = df_dict[feature]\n",
    "        corpus_data_features_test_vector = vectorizer.transform(test_data_df.Text.tolist())\n",
    "        corpus_data_features_test = corpus_data_features_test_vector.toarray()\n",
    "        print (feature)\n",
    "        test_log_pred = log_model.predict(corpus_data_features_test)\n",
    "        predictions_dict[feature] = test_log_pred\n",
    "        \n",
    "    return predictions_dict"
   ]
  },
  {
   "cell_type": "markdown",
   "metadata": {},
   "source": [
    "### Model 2 : Random Forest Model"
   ]
  },
  {
   "cell_type": "code",
   "execution_count": 16,
   "metadata": {
    "collapsed": false,
    "scrolled": true
   },
   "outputs": [],
   "source": [
    "# Training the classifier on the whole training data available\n",
    "rf_model = RandomForestClassifier(n_estimators=1000)\n",
    "rf_model = rf_model.fit(X=corpus_data_features_nd, y=train_data_df.Sentiment)"
   ]
  },
  {
   "cell_type": "code",
   "execution_count": 17,
   "metadata": {
    "collapsed": true
   },
   "outputs": [],
   "source": [
    "# Creating method to get predictions for the test data\n",
    "\n",
    "def get_Predictions_RF(df_dict, vectorizer):\n",
    "    predictions_dict = {}\n",
    "    for feature in df_dict:\n",
    "        test_data_df = df_dict[feature]\n",
    "        corpus_data_features_test_vector = vectorizer.transform(test_data_df.Text.tolist())\n",
    "        corpus_data_features_test = corpus_data_features_test_vector.toarray()\n",
    "        \n",
    "        test_log_pred = rf_model.predict(corpus_data_features_test)\n",
    "        predictions_dict[feature] = test_log_pred\n",
    "        \n",
    "    return predictions_dict"
   ]
  },
  {
   "cell_type": "markdown",
   "metadata": {},
   "source": [
    "# Writing Methods for Processing Review Data"
   ]
  },
  {
   "cell_type": "markdown",
   "metadata": {},
   "source": [
    "## Step 1 - Defining methods for splitting complex review statements\n",
    "\n",
    "### i.e. Splitting sentences containing multiple features, into single feature phrases."
   ]
  },
  {
   "cell_type": "code",
   "execution_count": 18,
   "metadata": {
    "collapsed": true
   },
   "outputs": [],
   "source": [
    "# Defining the tokenizer for the sentences\n",
    "def normAndTokenizeSentences(dictionaryOfData):\n",
    "\n",
    "    normalizedData = {}\n",
    "    keys = dictionaryOfData.keys()\n",
    "    \n",
    "    for key in keys:\n",
    "        review = dictionaryOfData[key]\n",
    "        review_as_list_of_sentences = []\n",
    "        for sentence in re.split(r'[.,:;!]', review):\n",
    "            if sentence:\n",
    "                sentence = ' '.join([word.lower().strip() for word in sentence.split()])\n",
    "                review_as_list_of_sentences.append(sentence)\n",
    "        \n",
    "        normalizedData[key] = review_as_list_of_sentences\n",
    "    \n",
    "    return normalizedData"
   ]
  },
  {
   "cell_type": "code",
   "execution_count": 19,
   "metadata": {
    "collapsed": true
   },
   "outputs": [],
   "source": [
    "# Building backoff tagger for the review data, with specific added training set for 'not'\n",
    "\n",
    "def build_backoff_tagger_trigram (train_sents):\n",
    "    t0 = nltk.DefaultTagger(\"NN\")\n",
    "    t1 = nltk.UnigramTagger(train_sents, backoff = t0)\n",
    "    t2 = nltk.BigramTagger(train_sents, backoff=t1)\n",
    "    t3 = nltk.TrigramTagger(train_sents, backoff=t2)\n",
    "    return t3\n",
    "\n",
    "sample_sents = brown.tagged_sents(categories=['news', 'editorial', 'reviews'])\n",
    "\n",
    "addTrainingset = [[('The', 'AT'),  ('battery', 'NN'),  ('is', 'BEZ'),  ('not', 'RB'), ('working', 'VBG'),  ('well', 'RB'), ('.','.')],\n",
    "                  [('Fast', 'NN'),  ('shipping', 'VBG'),  ('and', 'CC'),  ('everything', 'PN'),  ('however', 'CC'),  ('after', 'IN'),  ('about', 'RB'),  ('two', 'CD'),  ('months', 'NNS'),  ('of', 'IN'),  ('using', 'VBG'),  ('the', 'AT'),  ('phones', 'NNS'), ('white', 'JJ'),  ('lines', 'NNS'),  ('appeared', 'VBD'),  ('on', 'IN'), ('it', 'IN'), ('.','.')],\n",
    "                  [('The', 'AT'),  ('battery', 'NN'),  ('is', 'BEZ'),  ('not', 'RB'), ('working', 'VBG'),  ('well', 'RB'), ('.','.')],\n",
    "                  [('After', 'IN'),  ('less', 'AP'),  ('than', 'IN'),  ('six', 'CD'),  ('months', 'NNS'),  ('the', 'AT'),  ('screen', 'NN'), ('is', 'BEZ'),  ('not', 'RB'),  ('working', 'VBG')],\n",
    "                  [('It', 'PPS'),  ('not', 'RB'),  ('original', 'JJ'),  ('I', 'PPSS'),  ('guess', 'VB')],\n",
    "                  [('It', 'PPS'),  ('not', 'RB'),  ('original', 'JJ'),  ('I', 'PPSS'),  ('guess', 'VB')],\n",
    "                  [('It', 'PPS'),  ('not', 'RB'),  ('original', 'JJ'),  ('I', 'PPSS'),  ('guess', 'VB')],\n",
    "                  [('not', 'RB')]\n",
    "]\n",
    "\n",
    "#Training the tagger\n",
    "ngram_tagger = build_backoff_tagger_trigram(sample_sents + addTrainingset + addTrainingset + addTrainingset + addTrainingset)"
   ]
  },
  {
   "cell_type": "code",
   "execution_count": 20,
   "metadata": {
    "collapsed": true
   },
   "outputs": [],
   "source": [
    "# Define tag sentences for tagging sentences based on ngram_tagger\n",
    "def tag_sentences(cleaned_dictionaryData):\n",
    "    tagged_dictionaryData = {}\n",
    "    keys = cleaned_dictionaryData.keys()\n",
    "    \n",
    "    for key in keys:\n",
    "        data = cleaned_dictionaryData[key]\n",
    "        temp = []\n",
    "        for sentence in data:\n",
    "            x = ngram_tagger.tag(nltk.word_tokenize(sentence))\n",
    "            temp.append(x)\n",
    "\n",
    "        tagged_dictionaryData[key] = temp\n",
    "    return tagged_dictionaryData"
   ]
  },
  {
   "cell_type": "code",
   "execution_count": 21,
   "metadata": {
    "collapsed": true
   },
   "outputs": [],
   "source": [
    "# Defining the method which performs the splitting on each sentence of each review\n",
    "def split_taggedSentences(tagged_sentences):\n",
    "    keys = tagged_sentences.keys()\n",
    "    \n",
    "    splitData = {}\n",
    "\n",
    "    for key in keys:\n",
    "        reviewData = tagged_sentences[key]\n",
    "        reviewDataList = []\n",
    "\n",
    "        for sentence in reviewData:\n",
    "            temp = []\n",
    "            for word, tag in sentence:\n",
    "                if tag != 'CC':\n",
    "                    temp.append(word)\n",
    "\n",
    "                else :\n",
    "                    if temp:\n",
    "                        sent = ' '.join(temp)\n",
    "                        reviewDataList.append(sent)\n",
    "                        temp = []\n",
    "\n",
    "            #Adding the final temp\n",
    "            sent = ' '.join(temp)\n",
    "            reviewDataList.append(sent)\n",
    "        splitData[key] = reviewDataList\n",
    "        \n",
    "    return splitData"
   ]
  },
  {
   "cell_type": "code",
   "execution_count": 22,
   "metadata": {
    "collapsed": true
   },
   "outputs": [],
   "source": [
    "# Creating the method which needs to be called to split the reviews into single feature phrases\n",
    "\n",
    "def split_reviewData(filename):\n",
    "    with open(filename) as f:\n",
    "        data = f.read().split('\\n')\n",
    "        \n",
    "    dictionaryOfData = {}\n",
    "    for each_review in data:\n",
    "        temp = each_review.split('|')\n",
    "        if len(temp) > 1:\n",
    "            dictionaryOfData[temp[0]] = str(temp[1])\n",
    "        \n",
    "    cleaned_Sent_Tokens = normAndTokenizeSentences(dictionaryOfData)\n",
    "    tagged_sentences = tag_sentences(cleaned_Sent_Tokens)\n",
    "    \n",
    "    force_tags = {'not': 'RB', 'however' : 'CC', 'but' : 'CC'}\n",
    "\n",
    "    keys = tagged_sentences.keys()\n",
    "    for key in keys:\n",
    "        review = tagged_sentences[key]\n",
    "        temp_review = []\n",
    "        for sentence in review:\n",
    "            if sentence:\n",
    "                sentence = [(word, force_tags.get(word, tag)) for word, tag in sentence]\n",
    "                temp_review.append(sentence)\n",
    "        tagged_sentences[key] = temp_review\n",
    "    \n",
    "    dictionaryOfData_SplittedSentences = split_taggedSentences(tagged_sentences)\n",
    "    \n",
    "    return dictionaryOfData_SplittedSentences"
   ]
  },
  {
   "cell_type": "markdown",
   "metadata": {},
   "source": [
    "## Step 2 - Extracting relevant features from the reviews"
   ]
  },
  {
   "cell_type": "code",
   "execution_count": 23,
   "metadata": {
    "collapsed": true
   },
   "outputs": [],
   "source": [
    "# Find maximum similarity between phrases\n",
    "\n",
    "def max_similarity(feature1,feature2):\n",
    "    from itertools import product\n",
    "    sim = 0\n",
    "    list1 = feature1.split(' ')\n",
    "    list2 = feature2.split(' ')\n",
    "\n",
    "    for word1, word2 in product(list1, list2):\n",
    "        syns1 = wn.synsets(word1,'n')\n",
    "        syns2 = wn.synsets(word2,'n')\n",
    "        for sense1, sense2 in product(syns1, syns2):\n",
    "            d = wn.wup_similarity(sense1, sense2)\n",
    "            if d == None:\n",
    "                d = 0\n",
    "            if d>sim:\n",
    "                sim = d\n",
    "    return sim"
   ]
  },
  {
   "cell_type": "code",
   "execution_count": 24,
   "metadata": {
    "collapsed": true
   },
   "outputs": [],
   "source": [
    "# Find average similarity between phrases\n",
    "\n",
    "def avg_similarity(feature_list1,feature_list2):\n",
    "    sum_similarity = 0\n",
    "    \n",
    "    for feature1 in feature_list1:\n",
    "        for feature2 in feature_list2:\n",
    "            temp = max_similarity(feature1,feature2)\n",
    "            if temp > sum_similarity:\n",
    "                sum_similarity = temp\n",
    "    \n",
    "    return sum_similarity"
   ]
  },
  {
   "cell_type": "code",
   "execution_count": 25,
   "metadata": {
    "collapsed": true
   },
   "outputs": [],
   "source": [
    "# Find maximum similarity between terms\n",
    "\n",
    "def max_similarity_words(term,producttype):\n",
    "    from itertools import product\n",
    "    sim = 0\n",
    "\n",
    "    syns1 = wn.synsets(term,'n')\n",
    "    syns2 = wn.synsets(producttype,'n')\n",
    "    for sense1, sense2 in product(syns1, syns2):\n",
    "        d = wn.wup_similarity(sense1, sense2)\n",
    "        if d == None:\n",
    "            d = 0\n",
    "        if d>sim:\n",
    "            sim = d\n",
    "    return sim"
   ]
  },
  {
   "cell_type": "code",
   "execution_count": 26,
   "metadata": {
    "collapsed": true
   },
   "outputs": [],
   "source": [
    "# Find average similarity between terms\n",
    "\n",
    "def avg_similarity_words(term,producttype_list):\n",
    "    sum_similarity = 0\n",
    "    counter = 0\n",
    "    for producttype in producttype_list:\n",
    "        sum_similarity += max_similarity_words(term,producttype)\n",
    "        counter += 1\n",
    "    avg = sum_similarity/counter \n",
    "    return avg"
   ]
  },
  {
   "cell_type": "code",
   "execution_count": 27,
   "metadata": {
    "collapsed": true
   },
   "outputs": [],
   "source": [
    "# Returning most frequent chunks\n",
    "\n",
    "def freq_chunks (all_chunks_sep, num_terms=30):\n",
    "    top_chunks = nltk.FreqDist(all_chunks_sep).most_common(num_terms) #get the num_terms most frequent\n",
    "    return [item for (item,count) in top_chunks]"
   ]
  },
  {
   "cell_type": "code",
   "execution_count": 28,
   "metadata": {
    "collapsed": true
   },
   "outputs": [],
   "source": [
    "# Get the chunks from the chunked and tagged sentences\n",
    "\n",
    "def get_just_chunks(chunked_sents,chunk_type='P1'):\n",
    "    all_chunks = []\n",
    "\n",
    "    for sent in chunked_sents:\n",
    "        chunks = []\n",
    "        # iterate through subtrees / leaves to get individual chunks\n",
    "        raw_chunks = [subtree.leaves() for subtree in sent.subtrees()\n",
    "                      if subtree.label() == chunk_type]\n",
    "        for raw_chunk in raw_chunks:\n",
    "            chunk = []\n",
    "            for word_tag in raw_chunk:\n",
    "                chunk.append(word_tag[0])\n",
    "            chunks.append(' '.join(chunk))\n",
    "        if chunks != []:\n",
    "            all_chunks.append(chunks)\n",
    "    \n",
    "    #de-nesting all chunks\n",
    "    all_chunks_sep = [chunk for chunks in all_chunks for chunk in chunks ]\n",
    "    return all_chunks_sep"
   ]
  },
  {
   "cell_type": "code",
   "execution_count": 29,
   "metadata": {
    "collapsed": true
   },
   "outputs": [],
   "source": [
    "# Method for performing chunking on tagged sentences\n",
    "\n",
    "# Defining the number of types of chunks\n",
    "# i.e. Number of distinct patterns that will be chunked\n",
    "# This is equal to the number of patterns provided the grammar for the chunking method\n",
    "chunktypes = 3\n",
    "\n",
    "def chunk_tagged_sents(tagged_sents):\n",
    "    grammar = r\"\"\"\n",
    "    P1:{<JJ.*|NN.*><NN.*>+}  # battery charging system\n",
    "    P2:{<RB|RBR|RBS><JJ.*|NN.*>+}  # Shows noun doing action\n",
    "    P3:{<NN.*>+}  # battery life, lcd screen\n",
    "    \"\"\"\n",
    "\n",
    "    chunker = regexp.RegexpParser(grammar, loop=2)\n",
    "    chunked_sents = [chunker.parse(tagged_sent) for tagged_sent in tagged_sents]\n",
    "    \n",
    "    return chunked_sents"
   ]
  },
  {
   "cell_type": "code",
   "execution_count": 30,
   "metadata": {
    "collapsed": true
   },
   "outputs": [],
   "source": [
    "# Tokenize and tag the text corpus\n",
    "# Returns list of pos-tagged sentences\n",
    "\n",
    "def tokenize_and_tag_text(corpus):\n",
    "    sent_tokenizer = nltk.data.load('tokenizers/punkt/english.pickle')\n",
    "    raw_sents = sent_tokenizer.tokenize(corpus) # Split text into sentences \n",
    "    sents = [nltk.word_tokenize(word) for word in raw_sents] # tokenize sentences\n",
    "    tagged_POS_sents = [nltk.pos_tag(word) for word in sents] # tags sentences\n",
    "    return tagged_POS_sents"
   ]
  },
  {
   "cell_type": "code",
   "execution_count": 31,
   "metadata": {
    "collapsed": true
   },
   "outputs": [],
   "source": [
    "# Code for effectively display data in tabular format\n",
    "\n",
    "class ListTable(list):\n",
    "    \"\"\" Overridden list class which takes a 2-dimensional list of \n",
    "        the form [[1,2,3],[4,5,6]], and renders an HTML Table in \n",
    "        IPython Notebook. \"\"\"\n",
    "    \n",
    "    def _repr_html_(self):\n",
    "        html = [\"<table>\"]\n",
    "        for row in self:\n",
    "            html.append(\"<tr>\")\n",
    "            \n",
    "            for col in row:\n",
    "                html.append(\"<td>{0}</td>\".format(col))\n",
    "            \n",
    "            html.append(\"</tr>\")\n",
    "        html.append(\"</table>\")\n",
    "        return ''.join(html)"
   ]
  },
  {
   "cell_type": "code",
   "execution_count": 32,
   "metadata": {
    "collapsed": true
   },
   "outputs": [],
   "source": [
    "# Creating the method which needs to be called to extract a dictionary of relevant features\n",
    "# The keys are the relevant features\n",
    "# The values are the list of unigrams which are similar to the feature words.\n",
    "\n",
    "def extract_Relevant_Features(filename):\n",
    "    with open(filename, 'r') as text_file:\n",
    "        my_corpus = text_file.read().split('\\n')\n",
    "        \n",
    "    # Initializing list for tokenized and tagged corpus\n",
    "    token_and_tagged_corpus = []\n",
    "    \n",
    "    # For each record, calling the tokenizer and tagger\n",
    "    for record in my_corpus:\n",
    "        if record:\n",
    "            text = record.split('|')[1]\n",
    "            token_and_tagged_corpus += tokenize_and_tag_text(text)\n",
    "            \n",
    "    # Chunking the tagged, and tokenized corpus\n",
    "    chunk_sents = chunk_tagged_sents(token_and_tagged_corpus)\n",
    "    \n",
    "    # From the chunked data, retrieve the list\n",
    "    chunks_list = []\n",
    "    chunk_header = []\n",
    "\n",
    "    for i in range(chunktypes):\n",
    "        chunktype = 'P'+str(i+1)\n",
    "        chunks_from_sents = get_just_chunks(chunk_sents,chunktype)\n",
    "        freq_type_chunks = freq_chunks (chunks_from_sents,100)\n",
    "        chunk_header.append(chunktype)\n",
    "        chunks_list.append(freq_type_chunks)\n",
    "        \n",
    "    table_chunking = ListTable()\n",
    "    table_chunking.append(chunk_header)\n",
    "\n",
    "    iteration = 0\n",
    "    for chunklist in chunks_list:\n",
    "        if len(chunklist) > iteration:\n",
    "            iteration = len(chunklist)\n",
    "    \n",
    "    for i in range(iteration):\n",
    "        row = []\n",
    "        for chunklist in chunks_list:\n",
    "            if i < len(chunklist):\n",
    "                row.append(chunklist[i])\n",
    "            else:\n",
    "                row.append('')\n",
    "\n",
    "        table_chunking.append(row)\n",
    "    \n",
    "    wnl = WordNetLemmatizer()\n",
    "    word_dict = {}\n",
    "    features = []\n",
    "    for row in table_chunking:\n",
    "        for col in row:\n",
    "            features.append(col)\n",
    "            \n",
    "    for feature in features:\n",
    "        words = feature.split(' ')\n",
    "        for word in words:\n",
    "            word_lemma = wnl.lemmatize(word.lower())\n",
    "            if word_lemma in word_dict: word_dict[word_lemma].append(feature)\n",
    "            else: word_dict[word_lemma] = [feature]\n",
    "\n",
    "    key_pair_dict = {}\n",
    "\n",
    "    for key1 in word_dict:\n",
    "        if wn.synsets(key1,'n') == []: \n",
    "            continue    \n",
    "        for key2 in word_dict:\n",
    "            if key1 == key2: \n",
    "                continue\n",
    "            if wn.synsets(key2,'n') == []: \n",
    "                continue\n",
    "            key_pair = tuple(sorted([key1,key2]))\n",
    "            if key_pair in key_pair_dict: \n",
    "                continue\n",
    "            else: \n",
    "                feature_list1 = word_dict[key1]\n",
    "                feature_list2 = word_dict[key2]\n",
    "                similarity = avg_similarity(feature_list1,feature_list2)\n",
    "                if similarity > 0.8:\n",
    "                    key_pair_dict[key_pair] = similarity\n",
    "\n",
    "    sorted_key_pair_dict = sorted(key_pair_dict.items(), key=operator.itemgetter(1), reverse=True)\n",
    "    \n",
    "    key_pair_list = []\n",
    "    for keypair, sim in sorted_key_pair_dict:\n",
    "        key_pair_list.append(keypair)\n",
    "        \n",
    "    topics = {}\n",
    "    keypair_copy = key_pair_list[:]\n",
    "\n",
    "    for key11,key12 in key_pair_list:\n",
    "        for keypair2 in key_pair_list:\n",
    "            if key11 == keypair2[0] and key12 == keypair2[1]: continue\n",
    "            if key11 in keypair2:\n",
    "                if key11 in topics: topics[key11] += [keypair2[0],keypair2[1]]\n",
    "                else: \n",
    "                    topics[key11]= [key11,key12,keypair2[0],keypair2[1]]\n",
    "            if key12 in keypair2:\n",
    "                if key12 in topics: topics[key12] += [keypair2[0],keypair2[1]]\n",
    "                else: \n",
    "                    topics[key12]= [key11,key12,keypair2[0],keypair2[1]]\n",
    "    \n",
    "    for item in topics:\n",
    "        topics[item] = list(set(topics[item]))\n",
    "        \n",
    "    term_list = []\n",
    "    for topic in topics:\n",
    "        term_list.append(topic)\n",
    "    producttype = ['cell','phone','telephone','mobile']\n",
    "    \n",
    "    # Dictionary with final 'features' and associated list of similar words for each feature\n",
    "    final_term_dict = {}\n",
    "\n",
    "    for term in term_list:\n",
    "        sim = avg_similarity_words(term, producttype)\n",
    "        if sim > 0.70:\n",
    "            final_term_dict[term] = list(set(topics[term]))\n",
    "            \n",
    "    return final_term_dict"
   ]
  },
  {
   "cell_type": "markdown",
   "metadata": {},
   "source": [
    "## Step 3 - Creating a dictionary with features and list of associated single feature phrases\n",
    "\n",
    "### Keys : Features\n",
    "### Values : List of associated single feature phrases"
   ]
  },
  {
   "cell_type": "code",
   "execution_count": 33,
   "metadata": {
    "collapsed": true
   },
   "outputs": [],
   "source": [
    "# Creating the method which needs to be called to extract a dictionary of relevant features\n",
    "\n",
    "def club_Associated_Reviews(dict_splitted_Sentences, term_dict):\n",
    "\n",
    "    # From the splitted review data, from the split_review_sentence code\n",
    "    # Club all the reviews which are related to a certain feature, as a list of sentences\n",
    "    # In a dictionary, with the key as the feature, and value as the list of related sentences\n",
    "\n",
    "    reviews_perFeature = {}\n",
    "    for review_id in dict_splitted_Sentences:\n",
    "        review_phrases = dict_splitted_Sentences[review_id]\n",
    "        for phrase in review_phrases:\n",
    "            phrase_words = phrase.split(' ')\n",
    "            set1 = set(phrase_words)\n",
    "            for term in term_dict:\n",
    "                set2 = set([term])\n",
    "                result = set1.intersection(set2)\n",
    "                if result:\n",
    "                    if term in reviews_perFeature: \n",
    "                        reviews_perFeature[term].append(phrase)\n",
    "                    else:\n",
    "                        reviews_perFeature[term] = [phrase]\n",
    "                        \n",
    "    df_dict = {}\n",
    "    for aspect in reviews_perFeature:\n",
    "        tempdict= {}\n",
    "        tempdict['Text'] = reviews_perFeature[aspect]\n",
    "        temp_df = pd.DataFrame(tempdict)\n",
    "        df_dict[aspect] = temp_df\n",
    "    \n",
    "    return df_dict"
   ]
  },
  {
   "cell_type": "markdown",
   "metadata": {},
   "source": [
    "# Plotting and presenting the results"
   ]
  },
  {
   "cell_type": "code",
   "execution_count": 34,
   "metadata": {
    "collapsed": false
   },
   "outputs": [],
   "source": [
    "def plot_Results(predictions_dict):\n",
    "    # Variables for Product Attributes\n",
    "    attr_list = []\n",
    "    \n",
    "    #Variables for device\n",
    "    overall_list = []\n",
    "    \n",
    "    # Defining dictionaries for storing counts for overall device sentiment\n",
    "    overall_dict = {'No Of Positive mentions' : 0, 'No Of Negative mentions' : 0}\n",
    "            \n",
    "    # Assigning index name to dictionaries for overall counts\n",
    "    overall_dict['Aspect'] = 'device'\n",
    "    \n",
    "    for aspect in predictions_dict:\n",
    "        if aspect not in ['phone', 'device', 'cell', 'smartphone', 'telephone', 'mobile']:\n",
    "\n",
    "            # Defining dictionaries for storing counts\n",
    "            attr_dict = {'No Of Positive mentions' : 0, 'No Of Neutral mentions' : 0, \n",
    "                                 'No Of Negative mentions' : 0}\n",
    "            \n",
    "            # Assigning index name\n",
    "            attr_dict['Aspect'] = aspect\n",
    "            \n",
    "            # Calculating counts of different sentiments\n",
    "            list_counter = predictions_dict[aspect]\n",
    "            count = Counter(list_counter)\n",
    "            \n",
    "            # Storing the counts in the dictionaries\n",
    "            if 1 in count:\n",
    "                attr_dict['No Of Positive mentions'] = count[1]\n",
    "                \n",
    "            if 0 in count:\n",
    "                attr_dict['No Of Neutral mentions'] = count[0] \n",
    "                \n",
    "            if -1 in count:\n",
    "                attr_dict['No Of Negative mentions'] = count[-1]\n",
    "            \n",
    "            # Appending dictionaries to lists for easier dataframe manipulation\n",
    "            attr_list.append(attr_dict)\n",
    "            \n",
    "        else :\n",
    "            # Calculating counts of different sentiments for the product\n",
    "            list_counter = predictions_dict[aspect]\n",
    "            count = Counter(list_counter)\n",
    "            \n",
    "            if 1 in count:\n",
    "                overall_dict['No Of Positive mentions'] += count[1]\n",
    "               \n",
    "            # Commenting out code for the 'maybe' sentiment\n",
    "#             if 0 in count:\n",
    "#                 overall_dict['No Of Neutral mentions'] += count[0]\n",
    "            \n",
    "            if -1 in count:\n",
    "                overall_dict['No Of Negative mentions'] += count[-1]\n",
    "    \n",
    "    # Appending dictionaries to lists for easier dataframe manipulation\n",
    "    overall_list.append(overall_dict)\n",
    "\n",
    "    # For overall product\n",
    "    df_overall = pd.DataFrame(overall_list)\n",
    "    df_overall_final= df_overall.set_index('Aspect')\n",
    "    \n",
    "    #For printing the re-call table for attributes\n",
    "    df_attr = pd.DataFrame(attr_list)\n",
    "    df_attr_final = df_attr.set_index(\"Aspect\")\n",
    "    \n",
    "    print(\"----------------------\")\n",
    "    print(\"Apsects and number of related phrases\")\n",
    "    print(\"----------------------\")\n",
    "    \n",
    "    display(df_attr_final)\n",
    "    \n",
    "    print(\"\\n----------------------\")\n",
    "    print(\"Graph of sentiments for different attributes\")\n",
    "    print(\"----------------------\")\n",
    "    df_attr_final.plot(kind='bar', color=['r','b','g'],figsize=(12, 10))\n",
    "    df_attr_final.to_csv('attr_df.csv')\n",
    "    \n",
    "    return df_overall_final # Return the overall sentiment dataframe\n",
    "    \n",
    "def plot_overall(df_overall):\n",
    "    print(\"\\n----------------------\")\n",
    "    print(\"Graph for overall sentiment for the product\")\n",
    "    print(\"----------------------\")\n",
    "    df_overall.plot(kind='bar', color=['r','b','g'],figsize=(9, 8))\n",
    "    df_overall.to_csv('overall_df.csv')"
   ]
  },
  {
   "cell_type": "markdown",
   "metadata": {},
   "source": [
    "# Calling Methods to Process Review Data - DEV DATA"
   ]
  },
  {
   "cell_type": "markdown",
   "metadata": {},
   "source": [
    "## Step 1 - Splitting complex review statements"
   ]
  },
  {
   "cell_type": "code",
   "execution_count": 35,
   "metadata": {
    "collapsed": true
   },
   "outputs": [],
   "source": [
    "# Splitting review statements for test review data\n",
    "dictionaryOfData_SplittedSentences_DEV = split_reviewData('dev_review_data.txt')"
   ]
  },
  {
   "cell_type": "markdown",
   "metadata": {},
   "source": [
    "## Step 2 - Extracting relevant features"
   ]
  },
  {
   "cell_type": "code",
   "execution_count": 36,
   "metadata": {
    "collapsed": true
   },
   "outputs": [],
   "source": [
    "# Extracting relevant features for the test review data\n",
    "final_term_dict_DEV = extract_Relevant_Features('dev_review_data.txt')"
   ]
  },
  {
   "cell_type": "code",
   "execution_count": 37,
   "metadata": {
    "collapsed": false
   },
   "outputs": [
    {
     "name": "stdout",
     "output_type": "stream",
     "text": [
      "Aspect : box\n",
      "Related terms for the box : \n",
      "['model', 'glass', 'button', 'case', 'phone', 'lock', 'product', 'great', 'apple', 'cell', 'original', 'good', 'box']\n",
      "\n",
      "-----------\n",
      "\n",
      "Aspect : button\n",
      "Related terms for the button : \n",
      "['android', 'button', 'last', 'thing', 'lock', 'lighter', 'apple', 'original', 'low', 'store', 'good', 'inch', 'work', 'proprietary', 'home', 'way', 'high', 'so', 'phone', 'product', 'time', 'price', 'fan', 'first', 'device', 'light', 'cell', 'buy', 'condition', 'deal', 'much', 'back', 'battery', 'cable', 'display', 'life', 'charger', 'box']\n",
      "\n",
      "-----------\n",
      "\n",
      "Aspect : home\n",
      "Related terms for the home : \n",
      "['button', 'last', 'thing', 'lock', 'lighter', 'apple', 'store', 'good', 'inch', 'work', 'proprietary', 'home', 'way', 'so', 'light', 'product', 'price', 'fan', 'device', 'phone', 'cell', 'buy', 'condition', 'deal', 'much', 'back', 'battery', 'cable', 'display', 'life', 'charger']\n",
      "\n",
      "-----------\n",
      "\n",
      "Aspect : device\n",
      "Related terms for the device : \n",
      "['android', 'button', 'last', 'lock', 'lighter', 'battery', 'apple', 'system', 'internet', 'low', 'design', 'inch', 'work', 'proprietary', 'home', 'high', 'phone', 'store', 'connection', 'time', 'fan', 'first', 'device', 'light', 'cell', 'steel', 'glass', 'much', 'back', 'charge', 'cable', 'display', 'life', 'hardware', 'screen', 'brand', 'hand', 'charger']\n",
      "\n",
      "-----------\n",
      "\n",
      "Aspect : light\n",
      "Related terms for the light : \n",
      "['perfect', 'last', 'lock', 'lighter', 'great', 'apple', 'inch', 'good', 'button', 'work', 'proprietary', 'home', 'way', 'store', 'light', 'fan', 'device', 'phone', 'carrier', 'cell', 'condition', 'order', 'much', 'back', 'battery', 'cable', 'display', 'life', 'charger']\n",
      "\n",
      "-----------\n",
      "\n",
      "Aspect : phone\n",
      "Related terms for the phone : \n",
      "['android', 'button', 'crack', 'last', 'thing', 'lock', 'lighter', 'camera', 'great', 'apple', 'low', 'headphone', 'customer', 'original', 'star', 'nice', 'so', 'good', 'i', 'still', 'little', 'service', 'inch', 'work', 'proprietary', 'home', 'way', 'high', 'life', 'store', 'phone', 'product', 'experience', 'time', 'issue', 'best', 'quality', 'price', 'fan', 'first', 'device', 'light', 'feature', 'cell', 'box', 'review', 'buy', 'function', 'use', 'deal', 'condition', 'number', 'much', 'back', 'bad', 'charge', 'cable', 'display', 'speaker', 'serial', 'better', 'charger', 'battery']\n",
      "\n",
      "-----------\n",
      "\n",
      "Aspect : lighter\n",
      "Related terms for the lighter : \n",
      "['button', 'last', 'lock', 'lighter', 'apple', 'inch', 'good', 'lot', 'work', 'proprietary', 'home', 'store', 'phone', 'fan', 'device', 'light', 'cell', 'deal', 'much', 'back', 'battery', 'cable', 'display', 'life', 'better', 'charger']\n",
      "\n",
      "-----------\n",
      "\n",
      "Aspect : camera\n",
      "Related terms for the camera : \n",
      "['best', 'android', 'work', 'phone', 'good', 'camera', 'great', 'cell', 'nice', 'charger', 'i']\n",
      "\n",
      "-----------\n",
      "\n",
      "Aspect : battery\n",
      "Related terms for the battery : \n",
      "['service', 'button', 'last', 'lock', 'lighter', 'great', 'half', 'month', 'customer', 'battery', 'work', 'home', 'experience', 'year', 'phone', 'story', 'time', 'fan', 'first', 'device', 'light', 'few', 'cell', 'use', 'apple', 'day', 'much', 'week', 'charge', 'life', 'hour', 'charger']\n",
      "\n",
      "-----------\n",
      "\n",
      "Aspect : cell\n",
      "Related terms for the cell : \n",
      "['android', 'button', 'last', 'lock', 'lighter', 'camera', 'great', 'apple', 'headphone', 'original', 'nice', 'good', 'i', 'work', 'home', 'speaker', 'phone', 'best', 'fan', 'device', 'light', 'cell', 'much', 'battery', 'life', 'better', 'charger', 'box']\n",
      "\n",
      "-----------\n",
      "\n",
      "Aspect : cable\n",
      "Related terms for the cable : \n",
      "['display', 'proprietary', 'home', 'device', 'phone', 'lock', 'lighter', 'button', 'cable', 'apple', 'much', 'screen', 'light', 'inch', 'charger', 'fan']\n",
      "\n",
      "-----------\n",
      "\n",
      "Aspect : display\n",
      "Related terms for the display : \n",
      "['display', 'model', 'proprietary', 'home', 'device', 'much', 'lock', 'lighter', 'phone', 'cable', 'apple', 'light', 'screen', 'button', 'inch', 'charger', 'issue', 'still', 'fan']\n",
      "\n",
      "-----------\n",
      "\n",
      "Aspect : connection\n",
      "Related terms for the connection : \n",
      "['service', 'little', 'crack', 'device', 'connection', 'system', 'hardware', 'internet', 'customer', 'seller']\n",
      "\n",
      "-----------\n",
      "\n",
      "Aspect : system\n",
      "Related terms for the system : \n",
      "['feature', 'device', 'small', 'back', 'connection', 'system', 'hardware', 'internet', 'design']\n",
      "\n",
      "-----------\n",
      "\n",
      "Aspect : hardware\n",
      "Related terms for the hardware : \n",
      "['accessory', 'device', 'store', 'apple', 'connection', 'system', 'hardware', 'internet']\n",
      "\n",
      "-----------\n",
      "\n",
      "Aspect : still\n",
      "Related terms for the still : \n",
      "['little', 'crack', 'great', 'apple', 'shipping', 'inch', 'good', 'still', 'work', 'purchase', 'store', 'product', 'issue', 'phone', 'model', 'number', 'fast', 'bad', 'display', 'experience', 'serial', 'review']\n",
      "\n",
      "-----------\n",
      "\n",
      "Aspect : charger\n",
      "Related terms for the charger : \n",
      "['android', 'button', 'last', 'lock', 'lighter', 'camera', 'great', 'apple', 'headphone', 'nice', 'inch', 'good', 'i', 'work', 'proprietary', 'home', 'speaker', 'store', 'phone', 'best', 'fan', 'device', 'light', 'cell', 'much', 'back', 'battery', 'cable', 'display', 'life', 'better', 'charger']\n",
      "\n",
      "-----------\n",
      "\n",
      "Aspect : back\n",
      "Related terms for the back : \n",
      "['fore', 'right', 'button', 'small', 'lock', 'lighter', 'apple', 'system', 'inch', 'feature', 'home', 'device', 'phone', 'time', 'price', 'fan', 'first', 'case', 'light', 'much', 'back', 'screen', 'charger']\n",
      "\n",
      "-----------\n",
      "\n",
      "Aspect : headphone\n",
      "Related terms for the headphone : \n",
      "['best', 'android', 'work', 'phone', 'good', 'great', 'speaker', 'headphone', 'cell', 'nice', 'better', 'charger', 'i']\n",
      "\n",
      "-----------\n",
      "\n",
      "Aspect : fan\n",
      "Related terms for the fan : \n",
      "['button', 'last', 'lock', 'lighter', 'apple', 'inch', 'work', 'proprietary', 'home', 'store', 'phone', 'product', 'fan', 'device', 'light', 'cell', 'much', 'back', 'battery', 'cable', 'display', 'life', 'charger']\n",
      "\n",
      "-----------\n",
      "\n"
     ]
    }
   ],
   "source": [
    "# Printing the final features\n",
    "for key in final_term_dict_DEV:\n",
    "    print (\"Aspect : \"+ key)\n",
    "    print (\"Related terms for the \"+key+\" : \")\n",
    "    print (final_term_dict_DEV[key])\n",
    "    print (\"\\n-----------\\n\")"
   ]
  },
  {
   "cell_type": "markdown",
   "metadata": {},
   "source": [
    "## Step 3 - Associating features with related single feature phrases"
   ]
  },
  {
   "cell_type": "code",
   "execution_count": 38,
   "metadata": {
    "collapsed": false
   },
   "outputs": [],
   "source": [
    "# Getting a dictionary containing features as keys, and \n",
    "# single column dataframes containing related single feature phrases\n",
    "df_dict_DEV = club_Associated_Reviews(dictionaryOfData_SplittedSentences_DEV, final_term_dict_DEV)"
   ]
  },
  {
   "cell_type": "markdown",
   "metadata": {},
   "source": [
    "## Step 4 - Perform Sentiment Analysis using the trained classifer"
   ]
  },
  {
   "cell_type": "code",
   "execution_count": 39,
   "metadata": {
    "collapsed": true
   },
   "outputs": [],
   "source": [
    "# We are using Random Forest Classifier, with TF-IDF Vectorizer, as this combination provided the best results\n",
    "\n",
    "# The output is a dictionary, with features as keys, and \n",
    "# values as a list of sentiments corresponding to each related single feature phrases\n",
    "predictions_dict_RF_DEV = get_Predictions_RF(df_dict_DEV, vectorizer)"
   ]
  },
  {
   "cell_type": "markdown",
   "metadata": {},
   "source": [
    "## Step 5 - Presenting the results"
   ]
  },
  {
   "cell_type": "code",
   "execution_count": 40,
   "metadata": {
    "collapsed": false,
    "scrolled": false
   },
   "outputs": [
    {
     "name": "stdout",
     "output_type": "stream",
     "text": [
      "----------------------\n",
      "Apsects and number of related phrases\n",
      "----------------------\n"
     ]
    },
    {
     "data": {
      "text/html": [
       "<div>\n",
       "<table border=\"1\" class=\"dataframe\">\n",
       "  <thead>\n",
       "    <tr style=\"text-align: right;\">\n",
       "      <th></th>\n",
       "      <th>No Of Negative mentions</th>\n",
       "      <th>No Of Neutral mentions</th>\n",
       "      <th>No Of Positive mentions</th>\n",
       "    </tr>\n",
       "    <tr>\n",
       "      <th>Aspect</th>\n",
       "      <th></th>\n",
       "      <th></th>\n",
       "      <th></th>\n",
       "    </tr>\n",
       "  </thead>\n",
       "  <tbody>\n",
       "    <tr>\n",
       "      <th>box</th>\n",
       "      <td>21</td>\n",
       "      <td>26</td>\n",
       "      <td>19</td>\n",
       "    </tr>\n",
       "    <tr>\n",
       "      <th>button</th>\n",
       "      <td>21</td>\n",
       "      <td>2</td>\n",
       "      <td>7</td>\n",
       "    </tr>\n",
       "    <tr>\n",
       "      <th>home</th>\n",
       "      <td>6</td>\n",
       "      <td>11</td>\n",
       "      <td>5</td>\n",
       "    </tr>\n",
       "    <tr>\n",
       "      <th>back</th>\n",
       "      <td>33</td>\n",
       "      <td>39</td>\n",
       "      <td>14</td>\n",
       "    </tr>\n",
       "    <tr>\n",
       "      <th>lighter</th>\n",
       "      <td>0</td>\n",
       "      <td>7</td>\n",
       "      <td>2</td>\n",
       "    </tr>\n",
       "    <tr>\n",
       "      <th>camera</th>\n",
       "      <td>20</td>\n",
       "      <td>12</td>\n",
       "      <td>28</td>\n",
       "    </tr>\n",
       "    <tr>\n",
       "      <th>battery</th>\n",
       "      <td>178</td>\n",
       "      <td>11</td>\n",
       "      <td>25</td>\n",
       "    </tr>\n",
       "    <tr>\n",
       "      <th>cable</th>\n",
       "      <td>6</td>\n",
       "      <td>7</td>\n",
       "      <td>2</td>\n",
       "    </tr>\n",
       "    <tr>\n",
       "      <th>display</th>\n",
       "      <td>4</td>\n",
       "      <td>8</td>\n",
       "      <td>6</td>\n",
       "    </tr>\n",
       "    <tr>\n",
       "      <th>connection</th>\n",
       "      <td>8</td>\n",
       "      <td>1</td>\n",
       "      <td>5</td>\n",
       "    </tr>\n",
       "    <tr>\n",
       "      <th>system</th>\n",
       "      <td>5</td>\n",
       "      <td>6</td>\n",
       "      <td>9</td>\n",
       "    </tr>\n",
       "    <tr>\n",
       "      <th>light</th>\n",
       "      <td>4</td>\n",
       "      <td>0</td>\n",
       "      <td>16</td>\n",
       "    </tr>\n",
       "    <tr>\n",
       "      <th>headphone</th>\n",
       "      <td>2</td>\n",
       "      <td>0</td>\n",
       "      <td>1</td>\n",
       "    </tr>\n",
       "    <tr>\n",
       "      <th>charger</th>\n",
       "      <td>58</td>\n",
       "      <td>26</td>\n",
       "      <td>6</td>\n",
       "    </tr>\n",
       "    <tr>\n",
       "      <th>hardware</th>\n",
       "      <td>5</td>\n",
       "      <td>12</td>\n",
       "      <td>10</td>\n",
       "    </tr>\n",
       "    <tr>\n",
       "      <th>still</th>\n",
       "      <td>16</td>\n",
       "      <td>30</td>\n",
       "      <td>24</td>\n",
       "    </tr>\n",
       "    <tr>\n",
       "      <th>fan</th>\n",
       "      <td>3</td>\n",
       "      <td>14</td>\n",
       "      <td>1</td>\n",
       "    </tr>\n",
       "  </tbody>\n",
       "</table>\n",
       "</div>"
      ],
      "text/plain": [
       "            No Of Negative mentions  No Of Neutral mentions  \\\n",
       "Aspect                                                        \n",
       "box                              21                      26   \n",
       "button                           21                       2   \n",
       "home                              6                      11   \n",
       "back                             33                      39   \n",
       "lighter                           0                       7   \n",
       "camera                           20                      12   \n",
       "battery                         178                      11   \n",
       "cable                             6                       7   \n",
       "display                           4                       8   \n",
       "connection                        8                       1   \n",
       "system                            5                       6   \n",
       "light                             4                       0   \n",
       "headphone                         2                       0   \n",
       "charger                          58                      26   \n",
       "hardware                          5                      12   \n",
       "still                            16                      30   \n",
       "fan                               3                      14   \n",
       "\n",
       "            No Of Positive mentions  \n",
       "Aspect                               \n",
       "box                              19  \n",
       "button                            7  \n",
       "home                              5  \n",
       "back                             14  \n",
       "lighter                           2  \n",
       "camera                           28  \n",
       "battery                          25  \n",
       "cable                             2  \n",
       "display                           6  \n",
       "connection                        5  \n",
       "system                            9  \n",
       "light                            16  \n",
       "headphone                         1  \n",
       "charger                           6  \n",
       "hardware                         10  \n",
       "still                            24  \n",
       "fan                               1  "
      ]
     },
     "metadata": {},
     "output_type": "display_data"
    },
    {
     "name": "stdout",
     "output_type": "stream",
     "text": [
      "\n",
      "----------------------\n",
      "Graph of sentiments for different attributes\n",
      "----------------------\n"
     ]
    },
    {
     "data": {
      "image/png": "[encoded data removed]",
      "text/plain": [
       "<matplotlib.figure.Figure at 0x132d3f810>"
      ]
     },
     "metadata": {},
     "output_type": "display_data"
    }
   ],
   "source": [
    "df_overall_DEV = plot_Results(predictions_dict_RF_DEV)"
   ]
  },
  {
   "cell_type": "code",
   "execution_count": 41,
   "metadata": {
    "collapsed": false
   },
   "outputs": [
    {
     "name": "stdout",
     "output_type": "stream",
     "text": [
      "\n",
      "----------------------\n",
      "Graph for overall sentiment for the product\n",
      "----------------------\n"
     ]
    },
    {
     "data": {
      "image/png": "[encoded data removed]",
      "text/plain": [
       "<matplotlib.figure.Figure at 0x12f93d5d0>"
      ]
     },
     "metadata": {},
     "output_type": "display_data"
    }
   ],
   "source": [
    "# Plotting the overall product sentiment\n",
    "plot_overall(df_overall_DEV)"
   ]
  },
  {
   "cell_type": "code",
   "execution_count": null,
   "metadata": {
    "collapsed": true
   },
   "outputs": [],
   "source": []
  },
  {
   "cell_type": "markdown",
   "metadata": {},
   "source": [
    "# Calling Methods to Process Review Data - TEST DATA"
   ]
  },
  {
   "cell_type": "markdown",
   "metadata": {},
   "source": [
    "## Step 1 - Splitting complex review statements"
   ]
  },
  {
   "cell_type": "code",
   "execution_count": 42,
   "metadata": {
    "collapsed": true
   },
   "outputs": [],
   "source": [
    "# Splitting review statements for test review data\n",
    "dictionaryOfData_SplittedSentences = split_reviewData('test_review_data.txt')"
   ]
  },
  {
   "cell_type": "markdown",
   "metadata": {},
   "source": [
    "## Step 2 - Extracting relevant features"
   ]
  },
  {
   "cell_type": "code",
   "execution_count": 43,
   "metadata": {
    "collapsed": true
   },
   "outputs": [],
   "source": [
    "# Extracting relevant features for the test review data\n",
    "final_term_dict = extract_Relevant_Features('test_review_data.txt')"
   ]
  },
  {
   "cell_type": "code",
   "execution_count": 44,
   "metadata": {
    "collapsed": false
   },
   "outputs": [
    {
     "name": "stdout",
     "output_type": "stream",
     "text": [
      "Aspect : button\n",
      "Related terms for the button : \n",
      "['card', 'button', 'last', 'thing', 'fingerprint', 'point', 'battery', 'so', 'good', 'work', 'home', 'sensor', 'store', 'phone', 'duplex', 'cover', 'device', 'area', 'resistance', 'cell', 'water', 'full', 'sprint', 'memory', 'notification', 'back', 'way', 'storage', 'setting', 'bar', 'display', 'life', 'scanner', 'charger', 'search']\n",
      "\n",
      "-----------\n",
      "\n",
      "Aspect : home\n",
      "Related terms for the home : \n",
      "['card', 'button', 'last', 'thing', 'fingerprint', 'point', 'battery', 'so', 'good', 'work', 'home', 'sensor', 'store', 'phone', 'duplex', 'cover', 'device', 'area', 'resistance', 'cell', 'water', 'full', 'sprint', 'memory', 'notification', 'back', 'way', 'storage', 'setting', 'search', 'display', 'life', 'scanner', 'charger', 'bar']\n",
      "\n",
      "-----------\n",
      "\n",
      "Aspect : device\n",
      "Related terms for the device : \n",
      "['card', 'smart', 'button', 'last', 'small', 'fingerprint', 'battery', 'video', 'system', 'android', 'hand', 'good', 'resolution', 'work', 'home', 'sensor', 'high', 'store', 'monitor', 'time', 'size', 'rate', 'cover', 'first', 'device', 'phone', 'resistance', 'cell', 'water', 'sprint', 'memory', 'protector', 'back', 'heart', 'storage', 'bar', 'display', 'life', 'screen', 'scanner', 'charger', 'search']\n",
      "\n",
      "-----------\n",
      "\n",
      "Aspect : phone\n",
      "Related terms for the phone : \n",
      "['worst', 'smart', 'button', 'customer', 'last', 'thing', 'fingerprint', 'camera', 'point', 'great', 'life', 'service', 'picture', 'port', 'nice', 'good', 'period', 'job', 'feature', 'work', 'front', 'notification', 'sensor', 'high', 'so', 'phone', 'product', 'monitor', 'time', 'resolution', 'issue', 'old', 'quality', 'price', 'cover', 'first', 'device', 'area', 'resistance', 'result', 'cell', 'water', 'call', 'android', 'best', 'use', 'order', 'deal', 'short', 'text', 'home', 'much', 'back', 'message', 'heart', 'battery', 'wish', 'search', 'rate', 'speaker', 'mess', 'screen', 'scanner', 'way', 'better', 'charger', 'review', 'bar']\n",
      "\n",
      "-----------\n",
      "\n",
      "Aspect : resistance\n",
      "Related terms for the resistance : \n",
      "['right', 'button', 'last', 'thing', 'fingerprint', 'mode', 'good', 'purchase', 'sensor', 's', 'performance', 'device', 'phone', 'resistance', 'cell', 'water', 'condition', 'order', 'home', 'now', 'way', 'battery', 'life', 'health', 'charger']\n",
      "\n",
      "-----------\n",
      "\n",
      "Aspect : sensor\n",
      "Related terms for the sensor : \n",
      "['card', 'button', 'last', 'fingerprint', 'storage', 'good', 'work', 'home', 'sensor', 'store', 'cover', 'device', 'phone', 'resistance', 'cell', 'water', 'sprint', 'memory', 'back', 'battery', 'search', 'display', 'life', 'scanner', 'charger', 'bar']\n",
      "\n",
      "-----------\n",
      "\n",
      "Aspect : camera\n",
      "Related terms for the camera : \n",
      "['right', 'smart', 'last', 'pocket', 'camera', 'point', 'great', 'picture', 'port', 'nice', 'good', 'feature', 'work', 'front', 'notification', 'pant', 'so', 'phone', 'monitor', 'rate', 'old', 'price', 'cover', 'first', 'area', 'cell', 'call', 'best', 'condition', 'deal', 'back', 'heart', 'setting', 'speaker']\n",
      "\n",
      "-----------\n",
      "\n",
      "Aspect : battery\n",
      "Related terms for the battery : \n",
      "['worst', 'service', 'button', 'last', 'thing', 'fingerprint', 'great', 'month', 'smart', 'picture', 'week', 'good', 'job', 'feature', 'battery', 'work', 'home', 'sensor', 'regular', 'so', 'year', 'product', 'time', 'cover', 'first', 'device', 'phone', 'resistance', 'few', 'cell', 'water', 'period', 'use', 'result', 'day', 'quality', 'much', 'back', 'way', 'more', 'same', 'bar', 'life', 'customer', 'hour', 'better', 'charger', 'search']\n",
      "\n",
      "-----------\n",
      "\n",
      "Aspect : bar\n",
      "Related terms for the bar : \n",
      "['worst', 'service', 'button', 'last', 'fingerprint', 'mess', 'job', 'search', 'work', 'notification', 'sensor', 'so', 'phone', 'cover', 'device', 'area', 'cell', 'customer', 'note', 'use', 'home', 'sharp', 'back', 'battery', 'bar', 'dominant', 'better', 'charger', 'review']\n",
      "\n",
      "-----------\n",
      "\n",
      "Aspect : display\n",
      "Related terms for the display : \n",
      "['size', 'rate', 'protector', 'quality', 'home', 'device', 'performance', 'fingerprint', 'sensor', 'heart', 'great', 'display', 'photo', 'screen', 'scanner', 'monitor', 'resolution', 'charger', 'picture', 'button']\n",
      "\n",
      "-----------\n",
      "\n",
      "Aspect : system\n",
      "Related terms for the system : \n",
      "['feature', 'cover', 'notification', 'device', 'area', 'small', 'back', 'great', 'system', 'hand']\n",
      "\n",
      "-----------\n",
      "\n",
      "Aspect : cell\n",
      "Related terms for the cell : \n",
      "['smart', 'button', 'last', 'fingerprint', 'camera', 'great', 'mess', 'nice', 'good', 'work', 'front', 'notification', 'sensor', 'phone', 'monitor', 'old', 'first', 'device', 'area', 'resistance', 'speaker', 'cell', 'water', 'call', 'best', 'home', 'heart', 'battery', 'search', 'rate', 'life', 'scanner', 'charger', 'bar']\n",
      "\n",
      "-----------\n",
      "\n",
      "Aspect : monitor\n",
      "Related terms for the monitor : \n",
      "['card', 'smart', 'last', 'thing', 'fingerprint', 'camera', 'great', 'star', 'nice', 'good', 'resolution', 'work', 'front', 'notification', 'so', 'area', 'monitor', 'issue', 'open', 'size', 'old', 'price', 'cover', 'first', 'device', 'phone', 'rate', 'cell', 'call', 'sd', 'best', 'memory', 'protector', 'back', 'heart', 'display', 'speaker', 'clear', 'screen', 'scanner']\n",
      "\n",
      "-----------\n",
      "\n",
      "Aspect : port\n",
      "Related terms for the port : \n",
      "['card', 'sd', 'cover', 'phone', 'back', 'camera', 'point', 'port', 'work', 'memory', 'issue', 'front']\n",
      "\n",
      "-----------\n",
      "\n",
      "Aspect : scanner\n",
      "Related terms for the scanner : \n",
      "['smart', 'button', 'old', 'fingerprint', 'great', 'nice', 'judge', 'good', 'resolution', 'work', 'home', 'sensor', 'last', 'so', 'monitor', 'size', 'rate', 'first', 'device', 'phone', 'cell', 'call', 'best', 'protector', 'heart', 'display', 'speaker', 'screen', 'scanner', 'charger']\n",
      "\n",
      "-----------\n",
      "\n",
      "Aspect : charger\n",
      "Related terms for the charger : \n",
      "['card', 'button', 'last', 'fingerprint', 'storage', 'good', 'work', 'home', 'sensor', 'store', 'cover', 'device', 'phone', 'resistance', 'cell', 'water', 'sprint', 'memory', 'back', 'battery', 'search', 'display', 'life', 'scanner', 'charger', 'bar']\n",
      "\n",
      "-----------\n",
      "\n",
      "Aspect : back\n",
      "Related terms for the back : \n",
      "['card', 'right', 'smart', 'button', 'last', 'small', 'fingerprint', 'camera', 'point', 'great', 'video', 'system', 'hand', 'port', 'good', 'resolution', 'feature', 'battery', 'front', 'notification', 'sensor', 'case', 'store', 'phone', 'monitor', 'time', 'size', 'rate', 'cover', 'first', 'device', 'area', 'protector', 'sprint', 'condition', 'memory', 'short', 'home', 'back', 'heart', 'storage', 'setting', 'bar', 'life', 'screen', 'charger', 'search']\n",
      "\n",
      "-----------\n",
      "\n"
     ]
    }
   ],
   "source": [
    "# Printing the final features\n",
    "for key in final_term_dict:\n",
    "    print (\"Aspect : \"+ key,)\n",
    "    print (\"Related terms for the \"+key+\" : \")\n",
    "    print (final_term_dict[key])\n",
    "    print (\"\\n-----------\\n\")"
   ]
  },
  {
   "cell_type": "markdown",
   "metadata": {},
   "source": [
    "## Step 3 - Associating features with related single feature phrases"
   ]
  },
  {
   "cell_type": "code",
   "execution_count": 45,
   "metadata": {
    "collapsed": false
   },
   "outputs": [],
   "source": [
    "# Getting a dictionary containing features as keys, and \n",
    "# single column dataframes containing related single feature phrases\n",
    "df_dict = club_Associated_Reviews(dictionaryOfData_SplittedSentences, final_term_dict)"
   ]
  },
  {
   "cell_type": "markdown",
   "metadata": {},
   "source": [
    "## Step 4 - Perform Sentiment Analysis using the trained classifer"
   ]
  },
  {
   "cell_type": "code",
   "execution_count": 46,
   "metadata": {
    "collapsed": false
   },
   "outputs": [],
   "source": [
    "# We are using Random Forest Classifier, with TF-IDF Vectorizer, as this combination provided the best results\n",
    "\n",
    "# The output is a dictionary, with features as keys, and \n",
    "# values as a list of sentiments corresponding to each related single feature phrases\n",
    "predictions_dict_RF = get_Predictions_RF(df_dict, vectorizer)"
   ]
  },
  {
   "cell_type": "markdown",
   "metadata": {},
   "source": [
    "## Step 5 - Presenting the results"
   ]
  },
  {
   "cell_type": "code",
   "execution_count": 47,
   "metadata": {
    "collapsed": false,
    "scrolled": false
   },
   "outputs": [
    {
     "name": "stdout",
     "output_type": "stream",
     "text": [
      "----------------------\n",
      "Apsects and number of related phrases\n",
      "----------------------\n"
     ]
    },
    {
     "data": {
      "text/html": [
       "<div>\n",
       "<table border=\"1\" class=\"dataframe\">\n",
       "  <thead>\n",
       "    <tr style=\"text-align: right;\">\n",
       "      <th></th>\n",
       "      <th>No Of Negative mentions</th>\n",
       "      <th>No Of Neutral mentions</th>\n",
       "      <th>No Of Positive mentions</th>\n",
       "    </tr>\n",
       "    <tr>\n",
       "      <th>Aspect</th>\n",
       "      <th></th>\n",
       "      <th></th>\n",
       "      <th></th>\n",
       "    </tr>\n",
       "  </thead>\n",
       "  <tbody>\n",
       "    <tr>\n",
       "      <th>button</th>\n",
       "      <td>55</td>\n",
       "      <td>31</td>\n",
       "      <td>17</td>\n",
       "    </tr>\n",
       "    <tr>\n",
       "      <th>home</th>\n",
       "      <td>51</td>\n",
       "      <td>40</td>\n",
       "      <td>13</td>\n",
       "    </tr>\n",
       "    <tr>\n",
       "      <th>resistance</th>\n",
       "      <td>5</td>\n",
       "      <td>19</td>\n",
       "      <td>8</td>\n",
       "    </tr>\n",
       "    <tr>\n",
       "      <th>sensor</th>\n",
       "      <td>9</td>\n",
       "      <td>28</td>\n",
       "      <td>11</td>\n",
       "    </tr>\n",
       "    <tr>\n",
       "      <th>camera</th>\n",
       "      <td>102</td>\n",
       "      <td>142</td>\n",
       "      <td>275</td>\n",
       "    </tr>\n",
       "    <tr>\n",
       "      <th>battery</th>\n",
       "      <td>475</td>\n",
       "      <td>1</td>\n",
       "      <td>136</td>\n",
       "    </tr>\n",
       "    <tr>\n",
       "      <th>bar</th>\n",
       "      <td>0</td>\n",
       "      <td>15</td>\n",
       "      <td>4</td>\n",
       "    </tr>\n",
       "    <tr>\n",
       "      <th>display</th>\n",
       "      <td>10</td>\n",
       "      <td>46</td>\n",
       "      <td>60</td>\n",
       "    </tr>\n",
       "    <tr>\n",
       "      <th>system</th>\n",
       "      <td>7</td>\n",
       "      <td>23</td>\n",
       "      <td>33</td>\n",
       "    </tr>\n",
       "    <tr>\n",
       "      <th>monitor</th>\n",
       "      <td>6</td>\n",
       "      <td>29</td>\n",
       "      <td>17</td>\n",
       "    </tr>\n",
       "    <tr>\n",
       "      <th>port</th>\n",
       "      <td>66</td>\n",
       "      <td>20</td>\n",
       "      <td>4</td>\n",
       "    </tr>\n",
       "    <tr>\n",
       "      <th>scanner</th>\n",
       "      <td>18</td>\n",
       "      <td>35</td>\n",
       "      <td>18</td>\n",
       "    </tr>\n",
       "    <tr>\n",
       "      <th>charger</th>\n",
       "      <td>66</td>\n",
       "      <td>38</td>\n",
       "      <td>12</td>\n",
       "    </tr>\n",
       "    <tr>\n",
       "      <th>back</th>\n",
       "      <td>95</td>\n",
       "      <td>172</td>\n",
       "      <td>63</td>\n",
       "    </tr>\n",
       "  </tbody>\n",
       "</table>\n",
       "</div>"
      ],
      "text/plain": [
       "            No Of Negative mentions  No Of Neutral mentions  \\\n",
       "Aspect                                                        \n",
       "button                           55                      31   \n",
       "home                             51                      40   \n",
       "resistance                        5                      19   \n",
       "sensor                            9                      28   \n",
       "camera                          102                     142   \n",
       "battery                         475                       1   \n",
       "bar                               0                      15   \n",
       "display                          10                      46   \n",
       "system                            7                      23   \n",
       "monitor                           6                      29   \n",
       "port                             66                      20   \n",
       "scanner                          18                      35   \n",
       "charger                          66                      38   \n",
       "back                             95                     172   \n",
       "\n",
       "            No Of Positive mentions  \n",
       "Aspect                               \n",
       "button                           17  \n",
       "home                             13  \n",
       "resistance                        8  \n",
       "sensor                           11  \n",
       "camera                          275  \n",
       "battery                         136  \n",
       "bar                               4  \n",
       "display                          60  \n",
       "system                           33  \n",
       "monitor                          17  \n",
       "port                              4  \n",
       "scanner                          18  \n",
       "charger                          12  \n",
       "back                             63  "
      ]
     },
     "metadata": {},
     "output_type": "display_data"
    },
    {
     "name": "stdout",
     "output_type": "stream",
     "text": [
      "\n",
      "----------------------\n",
      "Graph of sentiments for different attributes\n",
      "----------------------\n"
     ]
    },
    {
     "data": {
      "image/png": "[encoded data removed]",
      "text/plain": [
       "<matplotlib.figure.Figure at 0x135f27f50>"
      ]
     },
     "metadata": {},
     "output_type": "display_data"
    }
   ],
   "source": [
    "df_overall = plot_Results(predictions_dict_RF)"
   ]
  },
  {
   "cell_type": "code",
   "execution_count": 48,
   "metadata": {
    "collapsed": false
   },
   "outputs": [
    {
     "name": "stdout",
     "output_type": "stream",
     "text": [
      "\n",
      "----------------------\n",
      "Graph for overall sentiment for the product\n",
      "----------------------\n"
     ]
    },
    {
     "data": {
      "image/png": "[encoded data removed]",
      "text/plain": [
       "<matplotlib.figure.Figure at 0x13551cf90>"
      ]
     },
     "metadata": {},
     "output_type": "display_data"
    }
   ],
   "source": [
    "# Plotting the overall product sentiment\n",
    "plot_overall(df_overall)"
   ]
  },
  {
   "cell_type": "code",
   "execution_count": null,
   "metadata": {
    "collapsed": true
   },
   "outputs": [],
   "source": []
  },
  {
   "cell_type": "markdown",
   "metadata": {},
   "source": [
    "# Calling Methods to Process Review Data - TEST DATA 2 - Small DataSet"
   ]
  },
  {
   "cell_type": "markdown",
   "metadata": {},
   "source": [
    "## Step 1 - Splitting complex review statements"
   ]
  },
  {
   "cell_type": "code",
   "execution_count": 49,
   "metadata": {
    "collapsed": true
   },
   "outputs": [],
   "source": [
    "# Splitting review statements for test review data\n",
    "dictionaryOfData_SplittedSentences_small = split_reviewData('test_review_data_small_set.txt')"
   ]
  },
  {
   "cell_type": "markdown",
   "metadata": {},
   "source": [
    "## Step 2 - Extracting relevant features"
   ]
  },
  {
   "cell_type": "code",
   "execution_count": 50,
   "metadata": {
    "collapsed": true
   },
   "outputs": [],
   "source": [
    "# Extracting relevant features for the test review data\n",
    "final_term_dict_small = extract_Relevant_Features('test_review_data_small_set.txt')"
   ]
  },
  {
   "cell_type": "code",
   "execution_count": 51,
   "metadata": {
    "collapsed": false,
    "scrolled": true
   },
   "outputs": [
    {
     "name": "stdout",
     "output_type": "stream",
     "text": [
      "Aspect : cell\n",
      "Related terms for the cell : \n",
      "['smart', 'power', 'contract', 'lighter', 'camera', 'great', 'headphone', 'android', 'o', 'good', 'speaker', 'processor', 'so', 'light', 'google', 'nexus', 'best', 'old', 'price', 'device', 'phone', 'cell', 'call', 'drain', 'buttery', 'better', 'fast', 'battery', 'life', 'wireless', 'smooth', 'charger']\n",
      "\n",
      "-----------\n",
      "\n",
      "Aspect : device\n",
      "Related terms for the device : \n",
      "['standard', 'smart', 'power', 'lock', 'lighter', 'camera', 'video', 'system', 'image', 'hand', 'end', 'low', 'o', 'stay', 'signal', 'work', 'experience', 'good', 'device', 'phone', 'galaxy', 'store', 'gorilla', 'grab', 'stock', 'google', 'light', 'wireless', 'nexus', 'so', 'price', 'dial', 'first', 'slot', 'part', 'assembly', 'time', 'cell', 'android', 'best', 'drain', 'order', 'con', 'glass', 'quality', 'whole', 'battery', 'play', 'display', 'life', 'hardware', 'screen', 'better', 'charger']\n",
      "\n",
      "-----------\n",
      "\n",
      "Aspect : light\n",
      "Related terms for the light : \n",
      "['lock', 'lighter', 'nice', 'so', 'good', 'work', 'way', 'store', 'light', 'stock', 'google', 'wireless', 'play', 'best', 'dial', 'device', 'phone', 'assembly', 'cell', 'drain', 'order', 'sharp', 'whole', 'repair', 'bad', 'battery', 'nexus', 'display', 'life', 'clear', 'screen', 'charger']\n",
      "\n",
      "-----------\n",
      "\n",
      "Aspect : processor\n",
      "Related terms for the processor : \n",
      "['old', 'contract', 'smart', 'cell', 'best', 'phone', 'fast', 'hardware', 'processor', 'great', 'nexus', 'price', 'google', 'signal', 'call', 'camera', 'store', 'good', 'play', 'better']\n",
      "\n",
      "-----------\n",
      "\n",
      "Aspect : white\n",
      "Related terms for the white : \n",
      "['black', 'image', 'beauty', 'white', 'game', 'version', 'minute', 'note', 'kind', 'good', 'model']\n",
      "\n",
      "-----------\n",
      "\n",
      "Aspect : lighter\n",
      "Related terms for the lighter : \n",
      "['lock', 'lighter', 'store', 'work', 'so', 'light', 'stock', 'google', 'nexus', 'best', 'dial', 'device', 'phone', 'assembly', 'cell', 'drain', 'whole', 'battery', 'play', 'display', 'life', 'wireless', 'screen', 'charger']\n",
      "\n",
      "-----------\n",
      "\n",
      "Aspect : camera\n",
      "Related terms for the camera : \n",
      "['smart', 'old', 'contract', 'camera', 'great', 'headphone', 'android', 'end', 'store', 'good', 'even', 'lot', 'experience', 'processor', 'galaxy', 'so', 'phone', 'google', 'nexus', 'best', 'price', 'device', 'part', 'cell', 'call', 'order', 'looking', 'fast', 'play', 'image', 'speaker', 'better']\n",
      "\n",
      "-----------\n",
      "\n",
      "Aspect : battery\n",
      "Related terms for the battery : \n",
      "['android', 'lighter', 'month', 'work', 'experience', 'company', 'so', 'year', 'phone', 'le', 'time', 'nexus', 'night', 'best', 'first', 'device', 'light', 'few', 'cell', 'entire', 'drain', 'flush', 'day', 'whole', 'week', 'more', 'battery', 'life', 'wireless', 'hour', 'charger']\n",
      "\n",
      "-----------\n",
      "\n",
      "Aspect : display\n",
      "Related terms for the display : \n",
      "['best', 'image', 'good', 'device', 'light', 'charger', 'lock', 'lighter', 'sm', 'program', 'so', 'display', 'model', 'photo', 'screen', 'nice', 'wireless', 'performance', 'nexus', 'still', 'large']\n",
      "\n",
      "-----------\n",
      "\n",
      "Aspect : phone\n",
      "Related terms for the phone : \n",
      "['standard', 'android', 'wish', 'voice', 'power', 'network', 'contract', 'phone', 'lighter', 'camera', 'great', 'smart', 'video', 'headphone', 'image', 'end', 'low', 'lot', 'good', 'signal', 'even', 'lower', 'purchase', 'life', 'processor', 'sm', 'store', 'thing', 'stock', 'product', 'google', 'experience', 'light', 'play', 'whole', 'old', 'price', 'build', 'specification', 'device', 'part', 'application', 'so', 'clear', 'wireless', 'call', 'best', 'assembly', 'cost', 'drain', 'software', 'looking', 'flush', 'buttery', 'order', 'quality', 'now', 'galaxy', 'game', 'way', 'battery', 'program', 'nexus', 'speaker', 'score', 'cell', 'o', 'fast', 'total', 'smooth', 'charger', 'option', 'better']\n",
      "\n",
      "-----------\n",
      "\n",
      "Aspect : system\n",
      "Related terms for the system : \n",
      "['best', 'gps', 'quality', 'device', 'network', 'game', 'sm', 'program', 'nexus', 'system', 'hardware', 'google', 'signal', 'small', 'wireless', 'store', 'charger', 'play']\n",
      "\n",
      "-----------\n",
      "\n",
      "Aspect : hardware\n",
      "Related terms for the hardware : \n",
      "['best', 'device', 'fast', 'processor', 'store', 'play', 'system', 'hardware', 'google', 'nexus']\n",
      "\n",
      "-----------\n",
      "\n",
      "Aspect : wireless\n",
      "Related terms for the wireless : \n",
      "['network', 'lock', 'lighter', 'video', 'system', 'so', 'signal', 'work', 'store', 'light', 'stock', 'google', 'nexus', 'best', 'dial', 'device', 'phone', 'assembly', 'cell', 'call', 'entire', 'drain', 'day', 'quality', 'whole', 'battery', 'play', 'display', 'life', 'wireless', 'screen', 'charger']\n",
      "\n",
      "-----------\n",
      "\n",
      "Aspect : headphone\n",
      "Related terms for the headphone : \n",
      "['best', 'smart', 'cell', 'old', 'phone', 'contract', 'camera', 'great', 'speaker', 'headphone', 'price', 'google', 'call', 'better', 'good', 'nexus']\n",
      "\n",
      "-----------\n",
      "\n",
      "Aspect : charger\n",
      "Related terms for the charger : \n",
      "['network', 'lock', 'lighter', 'video', 'system', 'so', 'signal', 'work', 'store', 'light', 'stock', 'google', 'play', 'best', 'dial', 'device', 'phone', 'assembly', 'wireless', 'call', 'entire', 'drain', 'day', 'quality', 'whole', 'battery', 'nexus', 'display', 'life', 'cell', 'screen', 'charger']\n",
      "\n",
      "-----------\n",
      "\n",
      "Aspect : still\n",
      "Related terms for the still : \n",
      "['size', 'large', 'image', 'work', 'small', 'display', 'model', 'photo', 'good', 'still']\n",
      "\n",
      "-----------\n",
      "\n"
     ]
    }
   ],
   "source": [
    "# Printing the final features\n",
    "for key in final_term_dict_small:\n",
    "    print (\"Aspect : \"+ key,)\n",
    "    print (\"Related terms for the \"+key+\" : \")\n",
    "    print (final_term_dict_small[key])\n",
    "    print (\"\\n-----------\\n\")"
   ]
  },
  {
   "cell_type": "markdown",
   "metadata": {},
   "source": [
    "## Step 3 - Associating features with related single feature phrases"
   ]
  },
  {
   "cell_type": "code",
   "execution_count": 52,
   "metadata": {
    "collapsed": true
   },
   "outputs": [],
   "source": [
    "# Getting a dictionary containing features as keys, and \n",
    "# single column dataframes containing related single feature phrases\n",
    "df_dict_small = club_Associated_Reviews(dictionaryOfData_SplittedSentences_small, final_term_dict_small)"
   ]
  },
  {
   "cell_type": "markdown",
   "metadata": {},
   "source": [
    "## Step 4 - Perform Sentiment Analysis using the trained classifer"
   ]
  },
  {
   "cell_type": "code",
   "execution_count": 53,
   "metadata": {
    "collapsed": true
   },
   "outputs": [],
   "source": [
    "# We are using Random Forest Classifier, with TF-IDF Vectorizer, as this combination provided the best results\n",
    "\n",
    "# The output is a dictionary, with features as keys, and \n",
    "# values as a list of sentiments corresponding to each related single feature phrases\n",
    "predictions_dict_RF_small = get_Predictions_RF(df_dict_small, vectorizer)"
   ]
  },
  {
   "cell_type": "markdown",
   "metadata": {},
   "source": [
    "## Step 5 - Presenting the results"
   ]
  },
  {
   "cell_type": "code",
   "execution_count": 54,
   "metadata": {
    "collapsed": false
   },
   "outputs": [
    {
     "name": "stdout",
     "output_type": "stream",
     "text": [
      "----------------------\n",
      "Apsects and number of related phrases\n",
      "----------------------\n"
     ]
    },
    {
     "data": {
      "text/html": [
       "<div>\n",
       "<table border=\"1\" class=\"dataframe\">\n",
       "  <thead>\n",
       "    <tr style=\"text-align: right;\">\n",
       "      <th></th>\n",
       "      <th>No Of Negative mentions</th>\n",
       "      <th>No Of Neutral mentions</th>\n",
       "      <th>No Of Positive mentions</th>\n",
       "    </tr>\n",
       "    <tr>\n",
       "      <th>Aspect</th>\n",
       "      <th></th>\n",
       "      <th></th>\n",
       "      <th></th>\n",
       "    </tr>\n",
       "  </thead>\n",
       "  <tbody>\n",
       "    <tr>\n",
       "      <th>lighter</th>\n",
       "      <td>0</td>\n",
       "      <td>3</td>\n",
       "      <td>0</td>\n",
       "    </tr>\n",
       "    <tr>\n",
       "      <th>light</th>\n",
       "      <td>1</td>\n",
       "      <td>0</td>\n",
       "      <td>14</td>\n",
       "    </tr>\n",
       "    <tr>\n",
       "      <th>processor</th>\n",
       "      <td>0</td>\n",
       "      <td>6</td>\n",
       "      <td>4</td>\n",
       "    </tr>\n",
       "    <tr>\n",
       "      <th>white</th>\n",
       "      <td>1</td>\n",
       "      <td>9</td>\n",
       "      <td>1</td>\n",
       "    </tr>\n",
       "    <tr>\n",
       "      <th>camera</th>\n",
       "      <td>10</td>\n",
       "      <td>21</td>\n",
       "      <td>37</td>\n",
       "    </tr>\n",
       "    <tr>\n",
       "      <th>battery</th>\n",
       "      <td>46</td>\n",
       "      <td>0</td>\n",
       "      <td>20</td>\n",
       "    </tr>\n",
       "    <tr>\n",
       "      <th>display</th>\n",
       "      <td>3</td>\n",
       "      <td>2</td>\n",
       "      <td>9</td>\n",
       "    </tr>\n",
       "    <tr>\n",
       "      <th>system</th>\n",
       "      <td>1</td>\n",
       "      <td>1</td>\n",
       "      <td>10</td>\n",
       "    </tr>\n",
       "    <tr>\n",
       "      <th>hardware</th>\n",
       "      <td>3</td>\n",
       "      <td>4</td>\n",
       "      <td>7</td>\n",
       "    </tr>\n",
       "    <tr>\n",
       "      <th>wireless</th>\n",
       "      <td>6</td>\n",
       "      <td>5</td>\n",
       "      <td>0</td>\n",
       "    </tr>\n",
       "    <tr>\n",
       "      <th>charger</th>\n",
       "      <td>6</td>\n",
       "      <td>5</td>\n",
       "      <td>0</td>\n",
       "    </tr>\n",
       "    <tr>\n",
       "      <th>still</th>\n",
       "      <td>3</td>\n",
       "      <td>11</td>\n",
       "      <td>6</td>\n",
       "    </tr>\n",
       "  </tbody>\n",
       "</table>\n",
       "</div>"
      ],
      "text/plain": [
       "           No Of Negative mentions  No Of Neutral mentions  \\\n",
       "Aspect                                                       \n",
       "lighter                          0                       3   \n",
       "light                            1                       0   \n",
       "processor                        0                       6   \n",
       "white                            1                       9   \n",
       "camera                          10                      21   \n",
       "battery                         46                       0   \n",
       "display                          3                       2   \n",
       "system                           1                       1   \n",
       "hardware                         3                       4   \n",
       "wireless                         6                       5   \n",
       "charger                          6                       5   \n",
       "still                            3                      11   \n",
       "\n",
       "           No Of Positive mentions  \n",
       "Aspect                              \n",
       "lighter                          0  \n",
       "light                           14  \n",
       "processor                        4  \n",
       "white                            1  \n",
       "camera                          37  \n",
       "battery                         20  \n",
       "display                          9  \n",
       "system                          10  \n",
       "hardware                         7  \n",
       "wireless                         0  \n",
       "charger                          0  \n",
       "still                            6  "
      ]
     },
     "metadata": {},
     "output_type": "display_data"
    },
    {
     "name": "stdout",
     "output_type": "stream",
     "text": [
      "\n",
      "----------------------\n",
      "Graph of sentiments for different attributes\n",
      "----------------------\n"
     ]
    },
    {
     "data": {
      "image/png": "[encoded data removed]",
      "text/plain": [
       "<matplotlib.figure.Figure at 0x134fcc1d0>"
      ]
     },
     "metadata": {},
     "output_type": "display_data"
    }
   ],
   "source": [
    "df_overall_small = plot_Results(predictions_dict_RF_small)"
   ]
  },
  {
   "cell_type": "code",
   "execution_count": 55,
   "metadata": {
    "collapsed": false
   },
   "outputs": [
    {
     "name": "stdout",
     "output_type": "stream",
     "text": [
      "\n",
      "----------------------\n",
      "Graph for overall sentiment for the product\n",
      "----------------------\n"
     ]
    },
    {
     "data": {
      "image/png": "[encoded data removed]",
      "text/plain": [
       "<matplotlib.figure.Figure at 0x134f48150>"
      ]
     },
     "metadata": {},
     "output_type": "display_data"
    }
   ],
   "source": [
    "# Plotting the overall product sentiment\n",
    "plot_overall(df_overall_small)"
   ]
  },
  {
   "cell_type": "code",
   "execution_count": null,
   "metadata": {
    "collapsed": true
   },
   "outputs": [],
   "source": []
  }
 ],
 "metadata": {
  "kernelspec": {
   "display_name": "Python 3",
   "language": "python",
   "name": "python3"
  },
  "language_info": {
   "codemirror_mode": {
    "name": "ipython",
    "version": 3
   },
   "file_extension": ".py",
   "mimetype": "text/x-python",
   "name": "python",
   "nbconvert_exporter": "python",
   "pygments_lexer": "ipython3",
   "version": "3.3.5"
  }
 },
 "nbformat": 4,
 "nbformat_minor": 0
}
